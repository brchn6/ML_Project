{
  "cells": [
    {
      "cell_type": "code",
      "metadata": {},
      "source": [
        "#%%\n",
        "import pandas as pd\n",
        "import os\n",
        "import seaborn as sns\n",
        "import matplotlib.pyplot as plt\n",
        "import warnings \n",
        "warnings.filterwarnings(\"ignore\")\n",
        "import sys \n",
        "# Define the path you want to add\n",
        "path_to_add = \"/c/Users/barc/Dropbox (Weizmann Institute)/MSc_Weizmann/FGS_ML/ML_Project/pyScripts/\"\n",
        "\n",
        "# Add the path to sys.path if it's not already there\n",
        "if path_to_add not in sys.path:\n",
        "    sys.path.append(path_to_add)\n",
        "from SeeTheData import SeeTheData\n",
        "\n",
        "#path to data file\n",
        "GETCWD = os.getcwd()\n",
        "PathToData = os.path.join(GETCWD + \"/..\" + \"\\\\diabetes+130-us+hospitals+for+years+1999-2008/diabetic_data.csv\" )\n",
        "\n",
        "#assing df\n",
        "Maindf = pd.read_csv(PathToData)\n",
        "\n",
        "sns.set_style(\"darkgrid\")\n",
        "plt.style.use(\"dark_background\")\n",
        "\n",
        "# [func for func in dir(SeeTheData) if callable(getattr(SeeTheData, func))]\n",
        "\n",
        "#%%\n",
        "a= SeeTheData(Maindf)\n",
        "a.Subsetting()\n",
        "# a.Display()\n",
        "# a.CountPlotOfObjectColumns()\n",
        "a.HistPlotOfNumericColumns()\n",
        "#%%\n",
        "# Draw a combo histogram and scatterplot with density contours\n",
        "f, ax = plt.subplots(figsize=(6, 6))\n",
        "sns.scatterplot(x=x, y=y, s=5, color=\".15\")\n",
        "# sns.histplot(x=x, y=y, bins=50, pthresh=.1, cmap=\"mako\")\n",
        "# sns.kdeplot(x=x, y=y, levels=5, color=\"w\", linewidths=1)\n",
        "\n",
        "#%%\n",
        "df = Maindf\n",
        "test_df = df[df['diag_1'].str.contains('250') | df['diag_2'].str.contains('250') | df['diag_3'].str.contains('250')]\n"
      ],
      "outputs": [],
      "execution_count": null
    }
  ],
  "metadata": {
    "anaconda-cloud": {},
    "kernelspec": {
      "display_name": "Python 3",
      "language": "python",
      "name": "python3"
    },
    "language_info": {
      "codemirror_mode": {
        "name": "ipython",
        "version": 3
      },
      "file_extension": ".py",
      "mimetype": "text/x-python",
      "name": "python",
      "nbconvert_exporter": "python",
      "pygments_lexer": "ipython3",
      "version": "3.6.1"
    }
  },
  "nbformat": 4,
  "nbformat_minor": 4
}